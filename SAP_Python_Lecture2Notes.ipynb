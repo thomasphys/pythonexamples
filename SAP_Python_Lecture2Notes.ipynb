{
 "cells": [
  {
   "cell_type": "markdown",
   "metadata": {},
   "source": [
    "<center>Dr. Pietro Giampa</center>\n",
    "\n",
    "<center>TRIUMF</center>\n",
    "\n",
    "<center>2020 Winter Term</center>\n",
    "\n",
    "<center>Lecture 2/3</center>"
   ]
  },
  {
   "cell_type": "markdown",
   "metadata": {},
   "source": [
    "# Outline\n",
    "    \n",
    "    1) Introduction to Arrays\n",
    "    2) Array Operations\n",
    "    3) Data-Visualization with Matplotlib\n",
    "    4) Exercises "
   ]
  },
  {
   "cell_type": "markdown",
   "metadata": {},
   "source": [
    "# Introduction to Arrays\n",
    "An array is a special variable, which can hold more than one value at a time. Imagine if you are measuring some data with your experiment if you have three readings you can enter them in Python as the following (based on our last lecture):"
   ]
  },
  {
   "cell_type": "code",
   "execution_count": 1,
   "metadata": {},
   "outputs": [],
   "source": [
    "data_point1 = 45.666\n",
    "data_point2 = 52.987\n",
    "data_point3 = 28.735"
   ]
  },
  {
   "cell_type": "markdown",
   "metadata": {},
   "source": [
    "This works great if the number of data points is small, but what about if you have 100+ or 1000+ data points? This is where arrays come into play. An array can hold many values under a single variable name, and you can access the values by referring to an index number. NB: the Array index starts at 0. For example, the above can be re-written using arrays as:"
   ]
  },
  {
   "cell_type": "code",
   "execution_count": 2,
   "metadata": {},
   "outputs": [
    {
     "name": "stdout",
     "output_type": "stream",
     "text": [
      "First Data Point 45.666\n"
     ]
    }
   ],
   "source": [
    "data = [45.666, 52.987, 28.735]\n",
    "print('First Data Point',data[0])"
   ]
  },
  {
   "cell_type": "markdown",
   "metadata": {},
   "source": [
    "In Python, arrays can store any of the available variable types (Numbers, Strings, Boolean). Arrays can also be formed out of combinations of variable types. In general, Python always assumes what the datatype is based on the input, however, if necessary the variable type can be directly passed to the program (requires NumPy). It is always possible to identify the current data-type of one array with the command dtype."
   ]
  },
  {
   "cell_type": "markdown",
   "metadata": {},
   "source": [
    "At any point you can check the length of an Array by using the function len(). Example:"
   ]
  },
  {
   "cell_type": "code",
   "execution_count": 3,
   "metadata": {},
   "outputs": [
    {
     "name": "stdout",
     "output_type": "stream",
     "text": [
      "Number of Entries in the Array: 3\n"
     ]
    }
   ],
   "source": [
    "nentries = len(data)\n",
    "print('Number of Entries in the Array:',nentries)"
   ]
  },
  {
   "cell_type": "markdown",
   "metadata": {},
   "source": [
    "Arrays can also be augmented by adding new entries. This is done by simply appending a new value to an already defined array by using the function append. Note, this changes the length of your Array. "
   ]
  },
  {
   "cell_type": "code",
   "execution_count": 4,
   "metadata": {},
   "outputs": [
    {
     "name": "stdout",
     "output_type": "stream",
     "text": [
      "Current Data Array: [45.666, 52.987, 28.735, 56.565, 'Entry']\n",
      "Number of Entries in the Array: 5\n"
     ]
    }
   ],
   "source": [
    "data.append(56.565)\n",
    "data.append('Entry')\n",
    "nentries = len(data)\n",
    "print('Current Data Array:',data)\n",
    "print('Number of Entries in the Array:',nentries)"
   ]
  },
  {
   "cell_type": "markdown",
   "metadata": {},
   "source": [
    "Similar to the ability to add entries to an array, it is also possible to remove parts from it. To remove entries there are two options: pop(index) or remove(value). The pop command requires an index and will remove the value at the given index, while remove gets rid of all entries equal to a given value."
   ]
  },
  {
   "cell_type": "code",
   "execution_count": 5,
   "metadata": {},
   "outputs": [
    {
     "name": "stdout",
     "output_type": "stream",
     "text": [
      "Current Data Array: [45.666, 52.987, 28.735, 56.565, 'Entry']\n",
      "Current Data Array: [52.987, 28.735, 56.565, 'Entry']\n",
      "Current Data Array: [52.987, 28.735, 'Entry']\n"
     ]
    }
   ],
   "source": [
    "print('Current Data Array:',data)\n",
    "data.pop(0)\n",
    "print('Current Data Array:',data)\n",
    "data.remove(56.565)\n",
    "print('Current Data Array:',data)"
   ]
  },
  {
   "cell_type": "markdown",
   "metadata": {},
   "source": [
    "Arrays can be purged at any time via the command clear(). This action will remove all entries from a given array permanently, so use carefully."
   ]
  },
  {
   "cell_type": "code",
   "execution_count": 6,
   "metadata": {},
   "outputs": [
    {
     "name": "stdout",
     "output_type": "stream",
     "text": [
      "Current Data Array: [52.987, 28.735, 'Entry']\n",
      "Current Data Array: []\n"
     ]
    }
   ],
   "source": [
    "print('Current Data Array:',data)\n",
    "data.clear()\n",
    "print('Current Data Array:',data)"
   ]
  },
  {
   "cell_type": "markdown",
   "metadata": {},
   "source": [
    "Thus far we have only dealt with one-dimensional arrays, however, in Python, it is possible to use an array as a multi-dimension object. (Basically, NxM matrices). For instance here how to construct a 3x3 array: "
   ]
  },
  {
   "cell_type": "code",
   "execution_count": 7,
   "metadata": {},
   "outputs": [
    {
     "name": "stdout",
     "output_type": "stream",
     "text": [
      "Select Element 1x3: x3\n"
     ]
    }
   ],
   "source": [
    "data_3b3 = [['x1','x2','x3'],['y1','y2','y3'],['z1','z2','z3']]\n",
    "print('Select Element 1x3:',data_3b3[0][2])\n"
   ]
  },
  {
   "cell_type": "markdown",
   "metadata": {},
   "source": [
    "### Example 2.1.1\n",
    "Use the data below to setup two arrays where the first corresponds to the data timestamp and the second is the actual data. Remove all the data with timestamp prior to 13:00:00, then add a new entry with timestamp = 15:52:00 and data = 56.7. Combine the two one-dimensional arrays into one multi-dimensional array, and print the first entry in the new array.\n",
    "\n",
    "    TIME - Data\n",
    "    12:40:00 45.3\n",
    "    13:52:00 53.7\n",
    "    14:32:00 100.4\n",
    "    14:53:00 134.8\n",
    "    15:32:00 76.3"
   ]
  },
  {
   "cell_type": "code",
   "execution_count": 8,
   "metadata": {},
   "outputs": [
    {
     "name": "stdout",
     "output_type": "stream",
     "text": [
      "New n-dim Array: [['13:52:00', '14:32:00', '14:52:00', '15:32:00', '15:52:00'], [53.7, 100.4, 134.8, 76.3, 56.7]]\n"
     ]
    }
   ],
   "source": [
    "########################################################\n",
    "## Example 2.1.1                                      ##\n",
    "## Introduction to Scinetific Programming with Python ##\n",
    "##                                                    ##\n",
    "## Pietro Giampa, TRIUMF, 2020                        ##\n",
    "########################################################\n",
    "\n",
    "### Define Needed Libraries ###\n",
    "import numpy as np\n",
    "\n",
    "### Define Arrays ###\n",
    "timestamp = ['12:40:00','13:52:00','14:32:00','14:52:00','15:32:00']\n",
    "data_points = [45.3, 53.7, 100.4, 134.8, 76.3]\n",
    "entry_to_remove = []\n",
    "\n",
    "### Find Early Datapoint ###\n",
    "for k in range(len(timestamp)):\n",
    "    if timestamp[k]<'13:00:00':\n",
    "        entry_to_remove.append(k)\n",
    "        \n",
    "### Remove Early Data-point ###\n",
    "for i in range(len(entry_to_remove)):\n",
    "    timestamp.pop(entry_to_remove[i])\n",
    "    data_points.pop(entry_to_remove[i])\n",
    "    \n",
    "### Add new Data-point ###\n",
    "timestamp.append('15:52:00')\n",
    "data_points.append(56.7)\n",
    "\n",
    "### Combine Arrays into nD Array ###\n",
    "data = [timestamp,data_points]\n",
    "print('New n-dim Array:',data)"
   ]
  },
  {
   "cell_type": "markdown",
   "metadata": {},
   "source": [
    "# Array Operations\n",
    "In the last lecture, we went through basic operations with variables, Arrays can be treated very similarly thanks to the NumPy library. Furthermore, NumPy offers standard Matrix operations for multi-dimensional arrays. \n",
    "\n",
    "#### Create Pre-Set Arrays\n",
    "Python and NumPy will let you create and fill basic arrays with a quick and fast 'one-line' commands, which can be quite handy in long programs. The following are a list of useful NumPy commands to remember for array definitions:\n",
    "\n",
    "* ARANGE(n) = creates an array integer (or floats) of n entries, starting from 0 and increasing to n-1.\n",
    "* RANDOM.RANDOM((x,y) or n) = creates an array of size X*Y (or a 1D array of size n) filled with random numbers generated from 0 to 1.\n",
    "* ZEROS((x,y) or n) = Similar to the random option, generates a one or multi-dimensions array filled with zeros. \n",
    "* FULL((x,y),k) = Generates an array of size X*Y filled with values equal to the input k.\n",
    "* EYE(d) = Creates a unit matrix of dimension d.\n"
   ]
  },
  {
   "cell_type": "code",
   "execution_count": 9,
   "metadata": {},
   "outputs": [
    {
     "name": "stdout",
     "output_type": "stream",
     "text": [
      "Array1 ARANGE(n): \n",
      " [0 1 2 3 4 5 6 7 8 9] \n",
      "\n",
      "Array2 RANDOM.RANDOM((x,y)): \n",
      " [[0.49463498 0.88820492]\n",
      " [0.82458858 0.80664305]] \n",
      "\n",
      "Array3 RANDOM.RANDOM(n): \n",
      " [0.68637724 0.96639085 0.03839259 0.28231334] \n",
      "\n",
      "Array4 ZEROS((x,y)): \n",
      " [[0.]\n",
      " [0.]\n",
      " [0.]] \n",
      "\n",
      "Array5 FULL((x,y),k): \n",
      " [['Finn' 'Finn' 'Finn']\n",
      " ['Finn' 'Finn' 'Finn']] \n",
      "\n",
      "Array6 EYE(d): \n",
      " [[1. 0.]\n",
      " [0. 1.]] \n",
      "\n"
     ]
    }
   ],
   "source": [
    "### Generates an array of 10 entries from 0 to 9\n",
    "array1 = np.arange(10)\n",
    "print('Array1 ARANGE(n):','\\n',array1,'\\n')\n",
    "\n",
    "### Generates a 2x2 array of random numbers\n",
    "array2 = np.random.random((2,2))\n",
    "### Generates a linear array with 4 random numbers\n",
    "array3 = np.random.random(4)\n",
    "print('Array2 RANDOM.RANDOM((x,y)):','\\n',array2,'\\n')\n",
    "print('Array3 RANDOM.RANDOM(n):','\\n',array3,'\\n')\n",
    "\n",
    "### Generates a 3x1 array of Zeros\n",
    "array4 = np.zeros((3,1))\n",
    "print('Array4 ZEROS((x,y)):','\\n',array4,'\\n')\n",
    "\n",
    "### Generates a 2x3 array fillied with a given value\n",
    "val = 'Finn'\n",
    "array5 = np.full((2,3),val)\n",
    "print('Array5 FULL((x,y),k):','\\n',array5,'\\n')\n",
    "\n",
    "### Generates a 2x2 unit matrix\n",
    "array6 = np.eye(2)\n",
    "print('Array6 EYE(d):','\\n',array6,'\\n')"
   ]
  },
  {
   "cell_type": "markdown",
   "metadata": {},
   "source": [
    "#### Basic Math\n",
    "Similarly to what we saw in the last lecture, the basic math operators can be used for arrays the same way we learn to use them for individual variables. Recall that similarly to variables, you can either create a new array or over-write the current array with the operation. "
   ]
  },
  {
   "cell_type": "code",
   "execution_count": 10,
   "metadata": {},
   "outputs": [
    {
     "name": "stdout",
     "output_type": "stream",
     "text": [
      "Array A1: [0 1 2 3 4]\n",
      "Array A2: [2 2 2 2 2] \n",
      "\n",
      "Addition       A1+A1: [0 2 4 6 8]\n",
      "Subtraction    A1-A1 [0 0 0 0 0]\n",
      "Multiplication A1*A1: [0 2 4 6 8]\n",
      "Division       A1/A1 [0.  0.5 1.  1.5 2. ]\n",
      "Square Root    A1: [0.         1.         1.41421356 1.73205081 2.        ]\n",
      "Elements Sum   A1: 10\n"
     ]
    }
   ],
   "source": [
    "### Generate Some Basic Arrays\n",
    "A1 = np.arange(5)\n",
    "A2 = np.full(5,2)\n",
    "print('Array A1:',A1)\n",
    "print('Array A2:',A2,'\\n')\n",
    "\n",
    "### Addition and Subtraction\n",
    "Asum = np.add(A1,A1)\n",
    "Asub = np.subtract(A1,A1)\n",
    "print('Addition       A1+A1:',Asum)\n",
    "print('Subtraction    A1-A1',Asub)\n",
    "\n",
    "### Multiplication and Division\n",
    "Amul = np.multiply(A1,A2)\n",
    "Adiv = np.divide(A1,A2)\n",
    "print('Multiplication A1*A1:',Amul)\n",
    "print('Division       A1/A1',Adiv)\n",
    "\n",
    "### Square Root\n",
    "Asqrt = np.sqrt(A1)\n",
    "print('Square Root    A1:',Asqrt)\n",
    "\n",
    "### Summing Over All Elements\n",
    "AsumE = np.sum(A1)\n",
    "print('Elements Sum   A1:',AsumE)"
   ]
  },
  {
   "cell_type": "markdown",
   "metadata": {},
   "source": [
    "#### Matrix Algebra\n",
    "Arrays can be interpreted as lists of data-points, but they can also be considered as standard matrices. In NumPy, all basic matrix algebra operators are available and Python can be used for all those calculations (other packages could offer more complex options!). Here is a list of the primary functions:\n",
    "\n",
    "* numpy.dot(x,y): Dot product between arrays (matrices) X and Y\n",
    "* numpy.cross(x,y): Cross product between (matrices) arrays X and Y\n",
    "* x.T: Transposition of array (matrix) X\n",
    "* numpy.linalg.det(x): Determinant of array (matrix) X\n",
    "* numpy.linalg.norm(x): Magnitude of array (matrix) X\n",
    "* numpy.var(x): Variance of an array (matrix)"
   ]
  },
  {
   "cell_type": "markdown",
   "metadata": {},
   "source": [
    "### Example 2.2.1\n",
    "If you have a particle of mass m=0.02 [kg], with a given position vector $r=(2\\textbf{i}-\\textbf{j}-3\\textbf{k})$ [m] and a velocity matrix of $v=(3\\textbf{i}+5\\textbf{j}-4\\textbf{k})$. Estimate the particle's angular momentum about the origin and calculate the magnitude. \n",
    "\n",
    "Recall that the angular momentum $\\textbf{L}$ of a particle of mass $\\textbf{m}$ is given by:\n",
    "\n",
    "$\\textbf{L = mr} \\times \\textbf{v}$ "
   ]
  },
  {
   "cell_type": "code",
   "execution_count": 11,
   "metadata": {},
   "outputs": [
    {
     "name": "stdout",
     "output_type": "stream",
     "text": [
      "Angular Momentum L: 0.46086874487211654 [kg*m2/s]\n"
     ]
    }
   ],
   "source": [
    "########################################################\n",
    "## Example 2.2.1                                      ##\n",
    "## Introduction to Scinetific Programming with Python ##\n",
    "##                                                    ##\n",
    "## Pietro Giampa, TRIUMF, 2020                        ##\n",
    "########################################################\n",
    "\n",
    "### Define Needed Libraries ###\n",
    "import numpy as np\n",
    "\n",
    "### Define Variables\n",
    "m = 0.02 # [kg] partical mass\n",
    "\n",
    "### Define Data Arrays\n",
    "r_array = [2., -1., -3.] # [m] position array\n",
    "v_array = [3., 5., -4.] # [m/s] velocity array\n",
    "\n",
    "### Create the multi-D Angular Momentum Array\n",
    "L_array = np.cross(r_array,v_array)\n",
    "L_array = np.multiply(L_array,m)\n",
    "L_det = np.linalg.norm(L_array)\n",
    "\n",
    "### Print the Results\n",
    "print('Angular Momentum L:',L_det,'[kg*m2/s]')"
   ]
  },
  {
   "cell_type": "markdown",
   "metadata": {},
   "source": [
    "# Data-Visualization with Matplotlib\n",
    "Learning how to properly visualize your data and results is a crucial component of data analysis. If a plot is well constructed, whoever sees it can extrapolate all the conclusions he/she/they need. \n",
    "\n",
    "Matplotlib is the best available option for data-visualization in Python (not even close). The latest documentation versions can be found at https://matplotlib.org/3.1.1/gallery/index.html (lots and lots of tutorials and examples).\n",
    "\n",
    "Mostly a translation from the Matlab library, Matplotlib is available for Linux, ChromeOS, macOS, and Windows.\n",
    "\n",
    "Let's start with the basic, first like any other external library we need to call Matplotlib. I suggest the following:"
   ]
  },
  {
   "cell_type": "code",
   "execution_count": 12,
   "metadata": {},
   "outputs": [],
   "source": [
    "import matplotlib.pyplot as plt"
   ]
  },
  {
   "cell_type": "markdown",
   "metadata": {},
   "source": [
    "Matplotlib has plenty of option when it comes to visualization and data representation, here some of the standards:\n",
    "\n",
    "* plt.plot(x,y) - Creates a standard 1D histogram, given arrays x and y. \n",
    "* plt.hist(x, nbins) - Creates a histogram based on array x, given a number of bins equal to nbins.\n",
    "* plt.bar(x,y,w,align='center') - Creates a Bar-chart given x and y, with bars of width w. Bars center will be placed at value x.\n",
    "* plt.scatter(x,y) - Creates a scatter plot with Markers, given arrays x and y.\n",
    "* plt.errorbar(x,y,xerr,yerr) - Creates a standard plot where each point is assigned an error given by the arrays xerr and yerr.\n",
    "* plt.hist2d(x,y,nbins) - Creates a 2D histogram based on arrays x and y, and given a bin number of nbins.\n",
    "\n",
    "A few useful Tips for visualization:\n",
    "\n",
    "* Always include a Title\n",
    "* Always label your axis, including units where suitable \n",
    "* Data should occupy a minimum of 2/3 of your canvas\n",
    "* Add texts or highlights only if it enhances the message of the results\n",
    "* Less is more\n",
    "\n",
    "Here a quick example for a simple plot:"
   ]
  },
  {
   "cell_type": "code",
   "execution_count": 13,
   "metadata": {},
   "outputs": [
    {
     "data": {
      "image/png": "[encoded data removed]",
      "text/plain": [
       "<Figure size 432x288 with 1 Axes>"
      ]
     },
     "metadata": {
      "needs_background": "light"
     },
     "output_type": "display_data"
    }
   ],
   "source": [
    "### Define Needed Libraries ###\n",
    "import matplotlib.pyplot as plt\n",
    "\n",
    "### Define Same Arrays\n",
    "x = [1.,2.,3.,4.]\n",
    "y = [4.,3.,2.,1.]\n",
    "\n",
    "### Draw Basic Plot, Red Line\n",
    "plt.plot(x,y,'r-')\n",
    "plt.title('Simple Plot')\n",
    "plt.xlabel('x')\n",
    "plt.ylabel('y')\n",
    "plt.show()"
   ]
  },
  {
   "cell_type": "markdown",
   "metadata": {},
   "source": [
    "### Example 2.3.1\n",
    "You are in the lab and you are measuring the current of a circuit, as a function of the applied voltage. Your results are given below:\n",
    "\n",
    "Voltage = [0.1, 0.2, 0.3, 0.4, 0.5, 0.6, 0.7, 0.8, 0.9]\n",
    "Current = [3.3, 4.8, 5.5, 6.2, 7.3, 8.1, 9.9, 10.3, 11.1]\n",
    "\n",
    "Plot the results above as a standard plot, a bar chart, and a scatter plot. Include all three of them on the same Canvas."
   ]
  },
  {
   "cell_type": "code",
   "execution_count": 14,
   "metadata": {},
   "outputs": [
    {
     "data": {
      "image/png": "[encoded data removed]",
      "text/plain": [
       "<Figure size 1080x288 with 3 Axes>"
      ]
     },
     "metadata": {
      "needs_background": "light"
     },
     "output_type": "display_data"
    }
   ],
   "source": [
    "########################################################\n",
    "## Example 2.3.1                                      ##\n",
    "## Introduction to Scinetific Programming with Python ##\n",
    "##                                                    ##\n",
    "## Pietro Giampa, TRIUMF, 2020                        ##\n",
    "########################################################\n",
    "\n",
    "### Define Needed Libraries ###\n",
    "import numpy as np\n",
    "import matplotlib.pyplot as plt\n",
    "\n",
    "### Define X array\n",
    "Voltage = [0.1, 0.2, 0.3, 0.4, 0.5, 0.6, 0.7, 0.8, 0.9] # [Volts]\n",
    "Current = [3.3, 4.8, 5.5, 6.2, 7.3, 8.1, 9.9, 10.3, 11.1] # [mAmp]\n",
    "\n",
    "### Split the Canvas in 3\n",
    "fig, axs = plt.subplots(1, 3, figsize=(15,4)) #Note the size can be adjusted\n",
    "fig.suptitle('Voltage vs Current, Example 2.3.1') #Set Title\n",
    "\n",
    "### Plot Bar Chart, V vs I, width=0.05 with Center aligment, Red Color\n",
    "axs[0].bar(Voltage,Current,width=0.05,align='center',facecolor='red')\n",
    "axs[0].set_xlabel('Voltage [V]')\n",
    "axs[0].set_ylabel('Current [I]')\n",
    "\n",
    "### Scatter plot, V vs I, Markers set to green cricles\n",
    "axs[1].scatter(Voltage,Current,c='g',marker='o')\n",
    "axs[1].set_xlabel('Voltage [V]')\n",
    "axs[1].set_ylabel('Current [I]')\n",
    "\n",
    "### Basic Plot, V vs I, Blue dotted line\n",
    "axs[2].plot(Voltage,Current,'b--')\n",
    "axs[2].set_xlabel('Voltage [V]')\n",
    "axs[2].set_ylabel('Current [I]')\n",
    "\n",
    "### Plot the results\n",
    "plt.show()"
   ]
  },
  {
   "cell_type": "markdown",
   "metadata": {},
   "source": [
    "# Exercises\n",
    "\n",
    "#### Problem 1\n",
    "Given the following two matrices A and B:\n",
    "\n",
    "A = [[0.4, 6.4, 2.2],[0.1, 0.3, 2.5],[1.8, 9.9, 0.4]]\n",
    "\n",
    "B = [[2.1, 2.4, 2.7],[2.1, 5.1, 4.3],[3.3, 8.8, 6.4]]\n",
    "\n",
    "Write a program that first transposes each matrix, then calculates the determinant, magnitude and variance. \n",
    "Moreover, the program should calculate the dot and cross product between A and B. All results have to be printed on screen with appropriate descriptions. \n",
    "\n",
    "#### Problem 2\n",
    "You are designing an experiment and you need to understand how far alpha particles, between 1-5 MeV, travel through foils of Au, Al, Cu. Go to the ASTAR database (https://physics.nist.gov/PhysRefData/Star/Text/ASTAR.html) and look up the range (CSDA) tables for the three elements. Extrapolate the data from 1 to 5 MeV and generates four different arrays (Energy, Range_Au, Range_Al, Range_Cu). Plot the range as a function of energy, for all three materials, on the same canvas (label everything).\n",
    "\n",
    "NB: that the range given on ASTAR is in g/cm2, so you will have to scale your array by the material density to get units of length.\n",
    "\n",
    "#### Problem 3\n",
    "Start by writing a generic function that model Gaussian distribution with x, $\\mu$, and $\\sigma$ as input parameters. First set the mean to 2.5 and sigma to 1.2, plot the function for values of x from 0 to 5 (label everything as needed).\n",
    "Using the function above generates a 3x3 matrix where each entry is a different combination of x, $\\mu$, and $\\sigma$. Print the newly created matrices on the screen with required comments.\n",
    "\n",
    "Now, consider that each row corresponds to the cartesian coordinates of a unique triangle, use matrix algebra to determine the area of each of the three triangles. "
   ]
  }
 ],
 "metadata": {
  "kernelspec": {
   "display_name": "Python 3",
   "language": "python",
   "name": "python3"
  },
  "language_info": {
   "codemirror_mode": {
    "name": "ipython",
    "version": 3
   },
   "file_extension": ".py",
   "mimetype": "text/x-python",
   "name": "python",
   "nbconvert_exporter": "python",
   "pygments_lexer": "ipython3",
   "version": "3.5.3"
  }
 },
 "nbformat": 4,
 "nbformat_minor": 2
}
